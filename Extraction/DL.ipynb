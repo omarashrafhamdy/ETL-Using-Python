{
 "cells": [
  {
   "cell_type": "code",
   "execution_count": 9,
   "id": "d5a59d6b",
   "metadata": {},
   "outputs": [],
   "source": [
    "import pandas as pd"
   ]
  },
  {
   "cell_type": "code",
   "execution_count": 10,
   "id": "8712a02e",
   "metadata": {},
   "outputs": [],
   "source": [
    "def extract_file(csv_file, destination):\n",
    "    # Read the CSV file\n",
    "    data = pd.read_csv(csv_file)\n",
    "    \n",
    "    # Add the 'source' column\n",
    "    data['source'] = 'DL'\n",
    "    \n",
    "    # Add the 'timestamp_saved' column\n",
    "    data['timestamp_saved'] = pd.Timestamp.now()\n",
    "    \n",
    "    # Write the updated DataFrame to the destination CSV file\n",
    "    data.to_csv(destination, index=False)"
   ]
  },
  {
   "cell_type": "markdown",
   "id": "23320b1e",
   "metadata": {},
   "source": [
    "**brands.csv**"
   ]
  },
  {
   "cell_type": "code",
   "execution_count": 13,
   "id": "67c19ef2",
   "metadata": {},
   "outputs": [],
   "source": [
    "extract_file('../bikestore_dim/brands/brands.csv', 'Landing/brands/brands.csv')"
   ]
  },
  {
   "cell_type": "markdown",
   "id": "7b6779f7",
   "metadata": {},
   "source": [
    "**categories.csv**"
   ]
  },
  {
   "cell_type": "code",
   "execution_count": 14,
   "id": "9be2c6d3",
   "metadata": {},
   "outputs": [],
   "source": [
    "extract_file('../bikestore_dim/categories/categories.csv', 'Landing/categories/categories.csv')"
   ]
  },
  {
   "cell_type": "markdown",
   "id": "4f2f495a",
   "metadata": {},
   "source": [
    "**customers.csv**"
   ]
  },
  {
   "cell_type": "code",
   "execution_count": 15,
   "id": "5b9b62c6",
   "metadata": {},
   "outputs": [],
   "source": [
    "extract_file('../bikestore_dim/customers/customers.csv', 'Landing/customers/customers.csv')"
   ]
  },
  {
   "cell_type": "markdown",
   "id": "abe55a17",
   "metadata": {},
   "source": [
    "**products.csv**"
   ]
  },
  {
   "cell_type": "code",
   "execution_count": 16,
   "id": "fc4b8b44",
   "metadata": {},
   "outputs": [],
   "source": [
    "extract_file('../bikestore_dim/products/products.csv', 'Landing/products/products.csv')"
   ]
  },
  {
   "cell_type": "markdown",
   "id": "b74537c4",
   "metadata": {},
   "source": [
    "**staffs.csv**"
   ]
  },
  {
   "cell_type": "code",
   "execution_count": 17,
   "id": "d93ff49a",
   "metadata": {},
   "outputs": [],
   "source": [
    "extract_file('../bikestore_dim/staffs/staffs.csv', 'Landing/staffs/staffs.csv')"
   ]
  },
  {
   "cell_type": "markdown",
   "id": "8b15ca3d",
   "metadata": {},
   "source": [
    "**stocks.csv**"
   ]
  },
  {
   "cell_type": "code",
   "execution_count": 18,
   "id": "c7f7b464",
   "metadata": {},
   "outputs": [],
   "source": [
    "extract_file('../bikestore_dim/stocks/stocks.csv', 'Landing/stocks/stocks.csv')"
   ]
  },
  {
   "cell_type": "markdown",
   "id": "8b317406",
   "metadata": {},
   "source": [
    "**stores.csv**"
   ]
  },
  {
   "cell_type": "code",
   "execution_count": 19,
   "id": "6a270d9c",
   "metadata": {},
   "outputs": [],
   "source": [
    "extract_file('../bikestore_dim/stores/stores.csv', 'Landing/stores/stores.csv')"
   ]
  },
  {
   "cell_type": "code",
   "execution_count": null,
   "id": "f93e2ab2",
   "metadata": {},
   "outputs": [],
   "source": []
  }
 ],
 "metadata": {
  "kernelspec": {
   "display_name": "Python 3 (ipykernel)",
   "language": "python",
   "name": "python3"
  },
  "language_info": {
   "codemirror_mode": {
    "name": "ipython",
    "version": 3
   },
   "file_extension": ".py",
   "mimetype": "text/x-python",
   "name": "python",
   "nbconvert_exporter": "python",
   "pygments_lexer": "ipython3",
   "version": "3.9.12"
  }
 },
 "nbformat": 4,
 "nbformat_minor": 5
}
