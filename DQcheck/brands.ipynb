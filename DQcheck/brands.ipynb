{
 "cells": [
  {
   "cell_type": "code",
   "execution_count": 6,
   "id": "9d1609a4",
   "metadata": {},
   "outputs": [],
   "source": [
    "import pandas as pd"
   ]
  },
  {
   "cell_type": "code",
   "execution_count": 7,
   "id": "a508ca77",
   "metadata": {},
   "outputs": [
    {
     "data": {
      "text/html": [
       "<div>\n",
       "<style scoped>\n",
       "    .dataframe tbody tr th:only-of-type {\n",
       "        vertical-align: middle;\n",
       "    }\n",
       "\n",
       "    .dataframe tbody tr th {\n",
       "        vertical-align: top;\n",
       "    }\n",
       "\n",
       "    .dataframe thead th {\n",
       "        text-align: right;\n",
       "    }\n",
       "</style>\n",
       "<table border=\"1\" class=\"dataframe\">\n",
       "  <thead>\n",
       "    <tr style=\"text-align: right;\">\n",
       "      <th></th>\n",
       "      <th>brand_id</th>\n",
       "      <th>brand_name</th>\n",
       "      <th>source</th>\n",
       "      <th>timestamp_saved</th>\n",
       "    </tr>\n",
       "  </thead>\n",
       "  <tbody>\n",
       "    <tr>\n",
       "      <th>0</th>\n",
       "      <td>1</td>\n",
       "      <td>Electra</td>\n",
       "      <td>DL</td>\n",
       "      <td>2024-04-30 11:18:44.525409</td>\n",
       "    </tr>\n",
       "    <tr>\n",
       "      <th>1</th>\n",
       "      <td>2</td>\n",
       "      <td>Haro</td>\n",
       "      <td>DL</td>\n",
       "      <td>2024-04-30 11:18:44.525409</td>\n",
       "    </tr>\n",
       "    <tr>\n",
       "      <th>2</th>\n",
       "      <td>3</td>\n",
       "      <td>Heller</td>\n",
       "      <td>DL</td>\n",
       "      <td>2024-04-30 11:18:44.525409</td>\n",
       "    </tr>\n",
       "    <tr>\n",
       "      <th>3</th>\n",
       "      <td>4</td>\n",
       "      <td>Pure Cycles</td>\n",
       "      <td>DL</td>\n",
       "      <td>2024-04-30 11:18:44.525409</td>\n",
       "    </tr>\n",
       "    <tr>\n",
       "      <th>4</th>\n",
       "      <td>5</td>\n",
       "      <td>Ritchey</td>\n",
       "      <td>DL</td>\n",
       "      <td>2024-04-30 11:18:44.525409</td>\n",
       "    </tr>\n",
       "    <tr>\n",
       "      <th>5</th>\n",
       "      <td>6</td>\n",
       "      <td>Strider</td>\n",
       "      <td>DL</td>\n",
       "      <td>2024-04-30 11:18:44.525409</td>\n",
       "    </tr>\n",
       "    <tr>\n",
       "      <th>6</th>\n",
       "      <td>7</td>\n",
       "      <td>Sun Bicycles</td>\n",
       "      <td>DL</td>\n",
       "      <td>2024-04-30 11:18:44.525409</td>\n",
       "    </tr>\n",
       "    <tr>\n",
       "      <th>7</th>\n",
       "      <td>8</td>\n",
       "      <td>Surly</td>\n",
       "      <td>DL</td>\n",
       "      <td>2024-04-30 11:18:44.525409</td>\n",
       "    </tr>\n",
       "    <tr>\n",
       "      <th>8</th>\n",
       "      <td>9</td>\n",
       "      <td>Trek</td>\n",
       "      <td>DL</td>\n",
       "      <td>2024-04-30 11:18:44.525409</td>\n",
       "    </tr>\n",
       "  </tbody>\n",
       "</table>\n",
       "</div>"
      ],
      "text/plain": [
       "   brand_id    brand_name source             timestamp_saved\n",
       "0         1       Electra     DL  2024-04-30 11:18:44.525409\n",
       "1         2          Haro     DL  2024-04-30 11:18:44.525409\n",
       "2         3        Heller     DL  2024-04-30 11:18:44.525409\n",
       "3         4   Pure Cycles     DL  2024-04-30 11:18:44.525409\n",
       "4         5       Ritchey     DL  2024-04-30 11:18:44.525409\n",
       "5         6       Strider     DL  2024-04-30 11:18:44.525409\n",
       "6         7  Sun Bicycles     DL  2024-04-30 11:18:44.525409\n",
       "7         8         Surly     DL  2024-04-30 11:18:44.525409\n",
       "8         9          Trek     DL  2024-04-30 11:18:44.525409"
      ]
     },
     "execution_count": 7,
     "metadata": {},
     "output_type": "execute_result"
    }
   ],
   "source": [
    "brands = pd.read_csv('../Extraction/Landing/brands/brands.csv')\n",
    "brands"
   ]
  },
  {
   "cell_type": "code",
   "execution_count": 8,
   "id": "2a6c92bc",
   "metadata": {},
   "outputs": [
    {
     "data": {
      "text/plain": [
       "0"
      ]
     },
     "execution_count": 8,
     "metadata": {},
     "output_type": "execute_result"
    }
   ],
   "source": [
    "brands.duplicated().sum()"
   ]
  },
  {
   "cell_type": "code",
   "execution_count": 9,
   "id": "c6379de2",
   "metadata": {},
   "outputs": [
    {
     "data": {
      "text/plain": [
       "brand_id           0\n",
       "brand_name         0\n",
       "source             0\n",
       "timestamp_saved    0\n",
       "dtype: int64"
      ]
     },
     "execution_count": 9,
     "metadata": {},
     "output_type": "execute_result"
    }
   ],
   "source": [
    "brands.isnull().sum()"
   ]
  },
  {
   "cell_type": "code",
   "execution_count": 10,
   "id": "73df8110",
   "metadata": {},
   "outputs": [],
   "source": [
    "brands.to_csv('../staging_1/brands/brands.csv', index = False)"
   ]
  },
  {
   "cell_type": "code",
   "execution_count": null,
   "id": "fbf908c6",
   "metadata": {},
   "outputs": [],
   "source": []
  }
 ],
 "metadata": {
  "kernelspec": {
   "display_name": "Python 3 (ipykernel)",
   "language": "python",
   "name": "python3"
  },
  "language_info": {
   "codemirror_mode": {
    "name": "ipython",
    "version": 3
   },
   "file_extension": ".py",
   "mimetype": "text/x-python",
   "name": "python",
   "nbconvert_exporter": "python",
   "pygments_lexer": "ipython3",
   "version": "3.9.12"
  }
 },
 "nbformat": 4,
 "nbformat_minor": 5
}
