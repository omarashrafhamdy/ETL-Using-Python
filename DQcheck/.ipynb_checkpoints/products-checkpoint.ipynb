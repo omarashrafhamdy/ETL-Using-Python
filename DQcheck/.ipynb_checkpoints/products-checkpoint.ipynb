{
 "cells": [
  {
   "cell_type": "code",
   "execution_count": 1,
   "id": "62406bf2",
   "metadata": {},
   "outputs": [],
   "source": [
    "import pandas as pd"
   ]
  },
  {
   "cell_type": "code",
   "execution_count": 2,
   "id": "0b9decc9",
   "metadata": {},
   "outputs": [
    {
     "data": {
      "text/html": [
       "<div>\n",
       "<style scoped>\n",
       "    .dataframe tbody tr th:only-of-type {\n",
       "        vertical-align: middle;\n",
       "    }\n",
       "\n",
       "    .dataframe tbody tr th {\n",
       "        vertical-align: top;\n",
       "    }\n",
       "\n",
       "    .dataframe thead th {\n",
       "        text-align: right;\n",
       "    }\n",
       "</style>\n",
       "<table border=\"1\" class=\"dataframe\">\n",
       "  <thead>\n",
       "    <tr style=\"text-align: right;\">\n",
       "      <th></th>\n",
       "      <th>product_id</th>\n",
       "      <th>product_name</th>\n",
       "      <th>brand_id</th>\n",
       "      <th>category_id</th>\n",
       "      <th>model_year</th>\n",
       "      <th>list_price</th>\n",
       "      <th>source</th>\n",
       "      <th>timestamp_saved</th>\n",
       "    </tr>\n",
       "  </thead>\n",
       "  <tbody>\n",
       "    <tr>\n",
       "      <th>0</th>\n",
       "      <td>1</td>\n",
       "      <td>Trek 820 - 2016</td>\n",
       "      <td>9</td>\n",
       "      <td>6</td>\n",
       "      <td>2016</td>\n",
       "      <td>379.99</td>\n",
       "      <td>DL</td>\n",
       "      <td>2024-04-28 17:57:15.953684</td>\n",
       "    </tr>\n",
       "    <tr>\n",
       "      <th>1</th>\n",
       "      <td>2</td>\n",
       "      <td>Ritchey Timberwolf Frameset - 2016</td>\n",
       "      <td>5</td>\n",
       "      <td>6</td>\n",
       "      <td>2016</td>\n",
       "      <td>749.99</td>\n",
       "      <td>DL</td>\n",
       "      <td>2024-04-28 17:57:15.953684</td>\n",
       "    </tr>\n",
       "    <tr>\n",
       "      <th>2</th>\n",
       "      <td>3</td>\n",
       "      <td>Surly Wednesday Frameset - 2016</td>\n",
       "      <td>8</td>\n",
       "      <td>6</td>\n",
       "      <td>2016</td>\n",
       "      <td>999.99</td>\n",
       "      <td>DL</td>\n",
       "      <td>2024-04-28 17:57:15.953684</td>\n",
       "    </tr>\n",
       "    <tr>\n",
       "      <th>3</th>\n",
       "      <td>4</td>\n",
       "      <td>Trek Fuel EX 8 29 - 2016</td>\n",
       "      <td>9</td>\n",
       "      <td>6</td>\n",
       "      <td>2016</td>\n",
       "      <td>2899.99</td>\n",
       "      <td>DL</td>\n",
       "      <td>2024-04-28 17:57:15.953684</td>\n",
       "    </tr>\n",
       "    <tr>\n",
       "      <th>4</th>\n",
       "      <td>5</td>\n",
       "      <td>Heller Shagamaw Frame - 2016</td>\n",
       "      <td>3</td>\n",
       "      <td>6</td>\n",
       "      <td>2016</td>\n",
       "      <td>1320.99</td>\n",
       "      <td>DL</td>\n",
       "      <td>2024-04-28 17:57:15.953684</td>\n",
       "    </tr>\n",
       "    <tr>\n",
       "      <th>...</th>\n",
       "      <td>...</td>\n",
       "      <td>...</td>\n",
       "      <td>...</td>\n",
       "      <td>...</td>\n",
       "      <td>...</td>\n",
       "      <td>...</td>\n",
       "      <td>...</td>\n",
       "      <td>...</td>\n",
       "    </tr>\n",
       "    <tr>\n",
       "      <th>329</th>\n",
       "      <td>317</td>\n",
       "      <td>Trek Checkpoint ALR 5 - 2019</td>\n",
       "      <td>9</td>\n",
       "      <td>7</td>\n",
       "      <td>2019</td>\n",
       "      <td>1999.99</td>\n",
       "      <td>DL</td>\n",
       "      <td>2024-04-28 17:57:15.953684</td>\n",
       "    </tr>\n",
       "    <tr>\n",
       "      <th>330</th>\n",
       "      <td>318</td>\n",
       "      <td>Trek Checkpoint ALR 5 Women's - 2019</td>\n",
       "      <td>9</td>\n",
       "      <td>7</td>\n",
       "      <td>2019</td>\n",
       "      <td>1999.99</td>\n",
       "      <td>DL</td>\n",
       "      <td>2024-04-28 17:57:15.953684</td>\n",
       "    </tr>\n",
       "    <tr>\n",
       "      <th>331</th>\n",
       "      <td>319</td>\n",
       "      <td>Trek Checkpoint SL 5 Women's - 2019</td>\n",
       "      <td>9</td>\n",
       "      <td>7</td>\n",
       "      <td>2019</td>\n",
       "      <td>2799.99</td>\n",
       "      <td>DL</td>\n",
       "      <td>2024-04-28 17:57:15.953684</td>\n",
       "    </tr>\n",
       "    <tr>\n",
       "      <th>332</th>\n",
       "      <td>320</td>\n",
       "      <td>Trek Checkpoint SL 6 - 2019</td>\n",
       "      <td>9</td>\n",
       "      <td>7</td>\n",
       "      <td>2019</td>\n",
       "      <td>3799.99</td>\n",
       "      <td>DL</td>\n",
       "      <td>2024-04-28 17:57:15.953684</td>\n",
       "    </tr>\n",
       "    <tr>\n",
       "      <th>333</th>\n",
       "      <td>321</td>\n",
       "      <td>Trek Checkpoint ALR Frameset - 2019</td>\n",
       "      <td>9</td>\n",
       "      <td>7</td>\n",
       "      <td>2019</td>\n",
       "      <td>3199.99</td>\n",
       "      <td>DL</td>\n",
       "      <td>2024-04-28 17:57:15.953684</td>\n",
       "    </tr>\n",
       "  </tbody>\n",
       "</table>\n",
       "<p>334 rows × 8 columns</p>\n",
       "</div>"
      ],
      "text/plain": [
       "     product_id                          product_name  brand_id  category_id  \\\n",
       "0             1                       Trek 820 - 2016         9            6   \n",
       "1             2    Ritchey Timberwolf Frameset - 2016         5            6   \n",
       "2             3       Surly Wednesday Frameset - 2016         8            6   \n",
       "3             4              Trek Fuel EX 8 29 - 2016         9            6   \n",
       "4             5          Heller Shagamaw Frame - 2016         3            6   \n",
       "..          ...                                   ...       ...          ...   \n",
       "329         317          Trek Checkpoint ALR 5 - 2019         9            7   \n",
       "330         318  Trek Checkpoint ALR 5 Women's - 2019         9            7   \n",
       "331         319   Trek Checkpoint SL 5 Women's - 2019         9            7   \n",
       "332         320           Trek Checkpoint SL 6 - 2019         9            7   \n",
       "333         321   Trek Checkpoint ALR Frameset - 2019         9            7   \n",
       "\n",
       "     model_year  list_price source             timestamp_saved  \n",
       "0          2016      379.99     DL  2024-04-28 17:57:15.953684  \n",
       "1          2016      749.99     DL  2024-04-28 17:57:15.953684  \n",
       "2          2016      999.99     DL  2024-04-28 17:57:15.953684  \n",
       "3          2016     2899.99     DL  2024-04-28 17:57:15.953684  \n",
       "4          2016     1320.99     DL  2024-04-28 17:57:15.953684  \n",
       "..          ...         ...    ...                         ...  \n",
       "329        2019     1999.99     DL  2024-04-28 17:57:15.953684  \n",
       "330        2019     1999.99     DL  2024-04-28 17:57:15.953684  \n",
       "331        2019     2799.99     DL  2024-04-28 17:57:15.953684  \n",
       "332        2019     3799.99     DL  2024-04-28 17:57:15.953684  \n",
       "333        2019     3199.99     DL  2024-04-28 17:57:15.953684  \n",
       "\n",
       "[334 rows x 8 columns]"
      ]
     },
     "execution_count": 2,
     "metadata": {},
     "output_type": "execute_result"
    }
   ],
   "source": [
    "products = pd.read_csv('../Extraction/Landing/products/products.csv')\n",
    "products"
   ]
  },
  {
   "cell_type": "code",
   "execution_count": 3,
   "id": "06bdb89e",
   "metadata": {},
   "outputs": [
    {
     "name": "stdout",
     "output_type": "stream",
     "text": [
      "<class 'pandas.core.frame.DataFrame'>\n",
      "RangeIndex: 334 entries, 0 to 333\n",
      "Data columns (total 8 columns):\n",
      " #   Column           Non-Null Count  Dtype  \n",
      "---  ------           --------------  -----  \n",
      " 0   product_id       334 non-null    int64  \n",
      " 1   product_name     334 non-null    object \n",
      " 2   brand_id         334 non-null    int64  \n",
      " 3   category_id      334 non-null    int64  \n",
      " 4   model_year       334 non-null    int64  \n",
      " 5   list_price       334 non-null    float64\n",
      " 6   source           334 non-null    object \n",
      " 7   timestamp_saved  334 non-null    object \n",
      "dtypes: float64(1), int64(4), object(3)\n",
      "memory usage: 21.0+ KB\n"
     ]
    }
   ],
   "source": [
    "products.info()"
   ]
  },
  {
   "cell_type": "code",
   "execution_count": 4,
   "id": "a35edfb3",
   "metadata": {},
   "outputs": [
    {
     "data": {
      "text/plain": [
       "13"
      ]
     },
     "execution_count": 4,
     "metadata": {},
     "output_type": "execute_result"
    }
   ],
   "source": [
    "products.duplicated().sum()"
   ]
  },
  {
   "cell_type": "code",
   "execution_count": 8,
   "id": "701e81b5",
   "metadata": {},
   "outputs": [],
   "source": [
    "products = products.drop_duplicates()"
   ]
  },
  {
   "cell_type": "code",
   "execution_count": 9,
   "id": "08da515f",
   "metadata": {},
   "outputs": [
    {
     "data": {
      "text/plain": [
       "0"
      ]
     },
     "execution_count": 9,
     "metadata": {},
     "output_type": "execute_result"
    }
   ],
   "source": [
    "products.duplicated().sum()"
   ]
  },
  {
   "cell_type": "code",
   "execution_count": 10,
   "id": "b6f2cc92",
   "metadata": {},
   "outputs": [
    {
     "data": {
      "text/plain": [
       "product_id         0\n",
       "product_name       0\n",
       "brand_id           0\n",
       "category_id        0\n",
       "model_year         0\n",
       "list_price         0\n",
       "source             0\n",
       "timestamp_saved    0\n",
       "dtype: int64"
      ]
     },
     "execution_count": 10,
     "metadata": {},
     "output_type": "execute_result"
    }
   ],
   "source": [
    "products.isnull().sum()"
   ]
  },
  {
   "cell_type": "code",
   "execution_count": 11,
   "id": "07cc7c3d",
   "metadata": {},
   "outputs": [],
   "source": [
    "products.to_csv('../staging_1/products/products.csv', index = False)"
   ]
  },
  {
   "cell_type": "code",
   "execution_count": null,
   "id": "7d460d9f",
   "metadata": {},
   "outputs": [],
   "source": []
  }
 ],
 "metadata": {
  "kernelspec": {
   "display_name": "Python 3 (ipykernel)",
   "language": "python",
   "name": "python3"
  },
  "language_info": {
   "codemirror_mode": {
    "name": "ipython",
    "version": 3
   },
   "file_extension": ".py",
   "mimetype": "text/x-python",
   "name": "python",
   "nbconvert_exporter": "python",
   "pygments_lexer": "ipython3",
   "version": "3.9.12"
  }
 },
 "nbformat": 4,
 "nbformat_minor": 5
}
